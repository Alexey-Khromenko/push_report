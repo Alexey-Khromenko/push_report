{
 "cells": [
  {
   "cell_type": "code",
   "execution_count": 1,
   "id": "8d8c5aa8",
   "metadata": {},
   "outputs": [],
   "source": [
    "import json\n",
    "import os"
   ]
  },
  {
   "cell_type": "code",
   "execution_count": 2,
   "id": "eea2962d",
   "metadata": {},
   "outputs": [
    {
     "name": "stdout",
     "output_type": "stream",
     "text": [
      "C:\\Users\\a.khromenko\\Documents\\git\\push_report\\push_report\n"
     ]
    }
   ],
   "source": [
    "print(os.getcwd())"
   ]
  },
  {
   "cell_type": "code",
   "execution_count": 3,
   "id": "0ea21d9d",
   "metadata": {},
   "outputs": [],
   "source": [
    "os.chdir(r\"C:\\Users\\a.khromenko\\Documents\\git\\push_report\\push_report\\target\")"
   ]
  },
  {
   "cell_type": "code",
   "execution_count": 4,
   "id": "37ab933a",
   "metadata": {},
   "outputs": [
    {
     "name": "stdout",
     "output_type": "stream",
     "text": [
      "C:\\Users\\a.khromenko\\Documents\\git\\push_report\\push_report\\target\n"
     ]
    }
   ],
   "source": [
    "print(os.getcwd())"
   ]
  },
  {
   "cell_type": "code",
   "execution_count": 5,
   "id": "96adc3f8",
   "metadata": {},
   "outputs": [],
   "source": [
    "search_str = 'o=[i(\"manifest\",\"manifest.json\"+t),i(\"catalog\",\"catalog.json\"+t)]'"
   ]
  },
  {
   "cell_type": "code",
   "execution_count": 7,
   "id": "fd22f0d0",
   "metadata": {},
   "outputs": [],
   "source": [
    "with open('index.html', 'r', encoding=\"utf8\") as f:\n",
    "    content_index = f.read()"
   ]
  },
  {
   "cell_type": "code",
   "execution_count": 8,
   "id": "6bacbcf3",
   "metadata": {},
   "outputs": [],
   "source": [
    "with open('manifest.json', 'r', encoding=\"utf8\") as f:\n",
    "    json_manifest = json.loads(f.read())"
   ]
  },
  {
   "cell_type": "code",
   "execution_count": 9,
   "id": "00b07363",
   "metadata": {},
   "outputs": [],
   "source": [
    "with open('catalog.json', 'r', encoding=\"utf8\") as f:\n",
    "    json_catalog = json.loads(f.read())"
   ]
  },
  {
   "cell_type": "code",
   "execution_count": 10,
   "id": "44664ee6",
   "metadata": {},
   "outputs": [],
   "source": [
    "with open('index2.html', 'w', encoding=\"utf8\") as f:\n",
    "    new_str = \"o=[{label: 'manifest', data: \"+json.dumps(json_manifest)+\"},{label: 'catalog', data: \"+json.dumps(json_catalog)+\"}]\"\n",
    "    new_content = content_index.replace(search_str, new_str)\n",
    "    f.write(new_content)"
   ]
  },
  {
   "cell_type": "code",
   "execution_count": null,
   "id": "b78c4d25",
   "metadata": {},
   "outputs": [],
   "source": []
  }
 ],
 "metadata": {
  "kernelspec": {
   "display_name": "Python 3 (ipykernel)",
   "language": "python",
   "name": "python3"
  },
  "language_info": {
   "codemirror_mode": {
    "name": "ipython",
    "version": 3
   },
   "file_extension": ".py",
   "mimetype": "text/x-python",
   "name": "python",
   "nbconvert_exporter": "python",
   "pygments_lexer": "ipython3",
   "version": "3.10.2"
  }
 },
 "nbformat": 4,
 "nbformat_minor": 5
}
